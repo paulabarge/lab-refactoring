{
 "cells": [
  {
   "cell_type": "markdown",
   "metadata": {},
   "source": [
    "### This file will define the csv file we'll work with to select the movies and the function to select the movie to play hangman"
   ]
  },
  {
   "cell_type": "code",
   "execution_count": null,
   "metadata": {},
   "outputs": [],
   "source": [
    "#Let's define a function like in the previous version returns a word"
   ]
  },
  {
   "cell_type": "code",
   "execution_count": 1,
   "metadata": {},
   "outputs": [],
   "source": [
    "def cpu_choice(): \n",
    "    \n",
    "    import pandas as pd\n",
    "    movies = pd.read_csv(\"../dataset_hangman/movies.csv\")\n",
    "    movies.head()\n",
    "    movies_list = movies.Film.tolist()\n",
    "    \n",
    "    #List of the words used by the computer to use during the game\n",
    "    movies_list\n",
    "    \n",
    "    #The computer picks a word, converst the word onto a list with the different letters and displays the lenght\n",
    "\n",
    "    import random\n",
    "    word_choice = random.choice(movies_list)\n",
    "    pri\n",
    "    #The previous version had a predefined list by me. Now I have imported a csv file with Movie names. \n",
    "    #Since most of the movies have more than one word, let's split the word choice into a list of strings\n",
    "    word_choice = list(word_choice.split( )) \n",
    "\n",
    "    #Now, we want the player to now how many words has the movie\n",
    "    word_choice_dict = {word_choice[index] : index for index,letter in enumerate(word_choice)} \n",
    "    print(\"The movie selected has\", len(word_choice_dict.values()),\"words\")\n",
    "\n",
    "    #Also, we want the player to now how many letters has each word\n",
    "    lenght_dict = {key: len(key) for key, value in word_choice_dict.items()}\n",
    "    print(\"Each word of the movie selected has\", lenght_dict.values(),\"letters\")"
   ]
  },
  {
   "cell_type": "code",
   "execution_count": 2,
   "metadata": {},
   "outputs": [],
   "source": [
    "word_choice = cpu_choice()"
   ]
  },
  {
   "cell_type": "code",
   "execution_count": 3,
   "metadata": {},
   "outputs": [
    {
     "data": {
      "text/plain": [
       "'Our Family Wedding'"
      ]
     },
     "execution_count": 3,
     "metadata": {},
     "output_type": "execute_result"
    }
   ],
   "source": [
    "word_choice"
   ]
  },
  {
   "cell_type": "code",
   "execution_count": null,
   "metadata": {},
   "outputs": [],
   "source": []
  }
 ],
 "metadata": {
  "kernelspec": {
   "display_name": "Python 3",
   "language": "python",
   "name": "python3"
  },
  "language_info": {
   "codemirror_mode": {
    "name": "ipython",
    "version": 3
   },
   "file_extension": ".py",
   "mimetype": "text/x-python",
   "name": "python",
   "nbconvert_exporter": "python",
   "pygments_lexer": "ipython3",
   "version": "3.8.2"
  }
 },
 "nbformat": 4,
 "nbformat_minor": 4
}
