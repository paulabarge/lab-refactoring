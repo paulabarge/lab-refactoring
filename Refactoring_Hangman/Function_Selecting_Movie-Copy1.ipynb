{
 "cells": [
  {
   "cell_type": "markdown",
   "metadata": {},
   "source": [
    "### This file will define the csv file we'll work with to select the movies and the function to select the movie to play hangman"
   ]
  },
  {
   "cell_type": "code",
   "execution_count": null,
   "metadata": {},
   "outputs": [],
   "source": [
    "#Let's define a function like in the previous version returns a word"
   ]
  },
  {
   "cell_type": "code",
   "execution_count": 3,
   "metadata": {},
   "outputs": [],
   "source": [
    "def cpu_choice(): \n",
    "    \n",
    "    import pandas as pd\n",
    "    movies = pd.read_csv(\"../dataset_hangman/movies.csv\")\n",
    "    movies.head()\n",
    "    movies_list = movies.Film.tolist()\n",
    "    \n",
    "#List of the words used by the computer to use during the game\n",
    "    movies_list\n",
    "    \n",
    "#The computer picks a word, converst the word onto a list with the different letters and displays the lenght\n",
    "\n",
    "    import random\n",
    "    word_choice = random.choice(movies_list)\n",
    "    return word_choice"
   ]
  },
  {
   "cell_type": "code",
   "execution_count": 4,
   "metadata": {},
   "outputs": [],
   "source": [
    "word_choice = cpu_choice()"
   ]
  }
 ],
 "metadata": {
  "kernelspec": {
   "display_name": "Python 3",
   "language": "python",
   "name": "python3"
  },
  "language_info": {
   "codemirror_mode": {
    "name": "ipython",
    "version": 3
   },
   "file_extension": ".py",
   "mimetype": "text/x-python",
   "name": "python",
   "nbconvert_exporter": "python",
   "pygments_lexer": "ipython3",
   "version": "3.8.2"
  }
 },
 "nbformat": 4,
 "nbformat_minor": 4
}
