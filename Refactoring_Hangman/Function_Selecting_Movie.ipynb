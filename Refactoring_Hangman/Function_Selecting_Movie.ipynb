{
 "cells": [
  {
   "cell_type": "markdown",
   "metadata": {},
   "source": [
    "#### This file will gather all the rules to play with the game and the main userflow.\n"
   ]
  },
  {
   "cell_type": "code",
   "execution_count": 10,
   "metadata": {},
   "outputs": [],
   "source": [
    "#Let's import the function to check the word selection properly works\n",
    "from Functions.Movie_Selector import cpu_choice"
   ]
  },
  {
   "cell_type": "code",
   "execution_count": 6,
   "metadata": {},
   "outputs": [],
   "source": [
    "#Now that we have picked the word, let's define how are we going to play."
   ]
  },
  {
   "cell_type": "code",
   "execution_count": 31,
   "metadata": {},
   "outputs": [
    {
     "ename": "SyntaxError",
     "evalue": "invalid syntax (<ipython-input-31-2eea793249f3>, line 4)",
     "output_type": "error",
     "traceback": [
      "\u001b[0;36m  File \u001b[0;32m\"<ipython-input-31-2eea793249f3>\"\u001b[0;36m, line \u001b[0;32m4\u001b[0m\n\u001b[0;31m    welcome = print(input(\"Hi! Are you ready to play Hangman?. Please type yes or no: \"))!= \"yes\":\u001b[0m\n\u001b[0m                                                                                                 ^\u001b[0m\n\u001b[0;31mSyntaxError\u001b[0m\u001b[0;31m:\u001b[0m invalid syntax\n"
     ]
    }
   ],
   "source": [
    "#First, let's add some interaction to the game \n",
    "\n",
    "def welcomegame():\n",
    "    welcome = print(input(\"Hi! Are you ready to play Hangman?. Please type yes or no: \"))!= \"yes\":\n",
    "    if welcome == \"yes\"\n",
    "        #add next function here\n",
    "    \n"
   ]
  },
  {
   "cell_type": "code",
   "execution_count": 48,
   "metadata": {},
   "outputs": [
    {
     "name": "stdout",
     "output_type": "stream",
     "text": [
      "The movie selected has 7 words\n",
      "Each word of the movie selected has dict_values([3, 4, 4, 1, 4, 4, 8]) letters\n"
     ]
    },
    {
     "data": {
      "text/plain": [
       "['You', 'Will', 'Meet', 'a', 'Tall', 'Dark', 'Stranger']"
      ]
     },
     "execution_count": 48,
     "metadata": {},
     "output_type": "execute_result"
    }
   ],
   "source": [
    "#Import this to the cpu_choice function\n",
    "\n",
    "word_choice = cpu_choice()\n",
    "#The previous version had a predefined list by me. Now I have imported a csv file with Movie names. \n",
    "word_choice = list(word_choice.split( )) \n",
    "#Since most of the movies have more than one word, let's split the word choice into a list of strings\n",
    "\n",
    "#Now, we want the player to now how many words has the movie\n",
    "word_choice_dict = {word_choice[index] : index for index,letter in enumerate(word_choice)} \n",
    "print(\"The movie selected has\", len(word_choice_dict.values()),\"words\")\n",
    "\n",
    "#Also, we want the player to now how many letters has each word\n",
    "lenght_dict = {key: len(key) for key, value in word_choice_dict.items()}\n",
    "print(\"Each word of the movie selected has\", lenght_dict.values(),\"letters\")\n",
    "\n",
    "#word_choice to see the selected word"
   ]
  },
  {
   "cell_type": "code",
   "execution_count": 59,
   "metadata": {},
   "outputs": [
    {
     "data": {
      "text/plain": [
       "'o'"
      ]
     },
     "execution_count": 59,
     "metadata": {},
     "output_type": "execute_result"
    }
   ],
   "source": [
    "player_progress = {}\n",
    "\n",
    "for element in word_choice:\n",
    "     element[]\n"
   ]
  },
  {
   "cell_type": "code",
   "execution_count": 53,
   "metadata": {},
   "outputs": [
    {
     "name": "stdout",
     "output_type": "stream",
     "text": [
      "{6: '_'}\n"
     ]
    }
   ],
   "source": [
    "player_progress = {}\n",
    "\n",
    "for element in word_choice: \n",
    "    player_progress[index] = \"_\"\n",
    "\n",
    "print(player_progress)"
   ]
  },
  {
   "cell_type": "code",
   "execution_count": 51,
   "metadata": {},
   "outputs": [
    {
     "ename": "SyntaxError",
     "evalue": "invalid syntax (<ipython-input-51-e81d441ec4f4>, line 5)",
     "output_type": "error",
     "traceback": [
      "\u001b[0;36m  File \u001b[0;32m\"<ipython-input-51-e81d441ec4f4>\"\u001b[0;36m, line \u001b[0;32m5\u001b[0m\n\u001b[0;31m    player_progress = [word_choice[index] : (\"_\")for index,letter in enumerate(word_choice)]\u001b[0m\n\u001b[0m                                          ^\u001b[0m\n\u001b[0;31mSyntaxError\u001b[0m\u001b[0;31m:\u001b[0m invalid syntax\n"
     ]
    }
   ],
   "source": [
    "#We create an empty dictionary with the same lenght but where the values are the index of the chosen word\n",
    "\n",
    "player_progress = {}\n",
    "\n",
    "for element in word_choice: \n",
    "    player_progress[index] = \"_\"\n",
    "\n",
    "print(player_progress)\n",
    "\n",
    "fail_letter=[]\n",
    "letters_said =[]\n",
    "number_of_fails=0\n",
    "\n",
    "while (len(fail_letter)< 6) and (player_progress != word_choice_dict):\n",
    "\n",
    "#Variables for the player. Computer asks for a letter > \n",
    "    input_player = input(\"Please, pick a letter:\")\n",
    "    chosen_letter = input_player.lower()\n",
    "    letters_said.append(chosen_letter)\n",
    "    \n",
    "#Player has chosen a letter, let's check each of their inputs to try to guess the word! \n",
    "\n",
    "    for n,v in word_choice_dict.items():\n",
    "        if chosen_letter == v:\n",
    "            player_progress[n] = chosen_letter\n",
    "        else:\n",
    "            if chosen_letter not in fail_letter and chosen_letter not in word_choice:\n",
    "                fail_letter.append(chosen_letter)\n",
    "                number_of_fails += 1\n",
    "    \n",
    "    player_show = player_progress.values()\n",
    "    print(player_show)\n",
    "    print(\"These are the letters you've said that are not in the word\",fail_letter)\n",
    "    print(\"These are the letters you have said already\",letters_said)\n",
    "    print(\"This is your number of fails\",number_of_fails)\n",
    "    \n",
    "    if (len(fail_letter)) == 6 or (player_progress == word_choice_dict):\n",
    "        print(\"\"\"My friend, you are dead.\n",
    "                    +---+\n",
    "                    |   |\n",
    "                   _O_  |\n",
    "                    |   |\n",
    "                   / \\  |\n",
    "                        |\n",
    "                  ========= \"\"\",\"The chosen word was\",word_choice)\n",
    "        break\n",
    "    \n",
    "    guess = input(\"Do you want to try to guess the word?\")\n",
    "    if guess.lower() == \"yes\":\n",
    "        guess_word_1 = input(\"Try now:\")\n",
    "#If they choose to guess the word correctly, then give them an input and if it's correct the game is over, if not, keep playing and add a mistake to the count of mistakes.\n",
    "        if guess_word_1.lower() == word_choice:\n",
    "            print(\"\"\"You guessed the word! You are free!\n",
    "             +---+\n",
    "                        |\n",
    "                        |\n",
    "                   \\O/  |\n",
    "                    |   |\n",
    "                   | |  |\n",
    "                  ========= \"\"\")\n",
    "            break\n",
    "        else: \n",
    "            print(\"Incorrect answer!Keep trying!\")\n",
    "            number_of_fails += 1\n",
    "            print(\"You have failed\",number_of_fails,\"times\")\n",
    "    else: \n",
    "        print(\"Okay,keep playing!\")\n"
   ]
  },
  {
   "cell_type": "code",
   "execution_count": null,
   "metadata": {},
   "outputs": [],
   "source": []
  }
 ],
 "metadata": {
  "kernelspec": {
   "display_name": "Python 3",
   "language": "python",
   "name": "python3"
  },
  "language_info": {
   "codemirror_mode": {
    "name": "ipython",
    "version": 3
   },
   "file_extension": ".py",
   "mimetype": "text/x-python",
   "name": "python",
   "nbconvert_exporter": "python",
   "pygments_lexer": "ipython3",
   "version": "3.8.2"
  }
 },
 "nbformat": 4,
 "nbformat_minor": 4
}
