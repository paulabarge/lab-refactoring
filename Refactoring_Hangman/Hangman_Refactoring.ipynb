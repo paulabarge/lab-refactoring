{
 "cells": [
  {
   "cell_type": "markdown",
   "metadata": {},
   "source": [
    "#### This file will gather all the rules to play with the game and the main userflow.\n"
   ]
  },
  {
   "cell_type": "code",
   "execution_count": 1,
   "metadata": {},
   "outputs": [],
   "source": [
    "#Let's import the function to check the word selection properly works\n",
    "from Functions.Movie_Selector import cpu_choice"
   ]
  },
  {
   "cell_type": "code",
   "execution_count": 2,
   "metadata": {},
   "outputs": [
    {
     "data": {
      "text/plain": [
       "'The Heartbreak Kid'"
      ]
     },
     "execution_count": 2,
     "metadata": {},
     "output_type": "execute_result"
    }
   ],
   "source": [
    "word_choice = cpu_choice()\n",
    "word_choice"
   ]
  },
  {
   "cell_type": "code",
   "execution_count": 3,
   "metadata": {},
   "outputs": [],
   "source": [
    "#Defining a function that returns the number of words the word selected by the computer has and how many letters too\n",
    "\n",
    "def wordlenght(): \n",
    "    word_choice #calling the function\n",
    "    \n",
    "    #Splitting the movie in a list of words.\n",
    "    word_list = list(word_choice.split( )) \n",
    "\n",
    "    #Now, we want the player to now how many words has the movie\n",
    "    word_choice_dict = {word_list[index] : index for index,letter in enumerate(word_list)} \n",
    "\n",
    "    #Also, we want the player to now how many letters has each word\n",
    "    lenght_dict = {key: len(key) for key, value in word_choice_dict.items()}\n",
    "    return print(\"The movie selected has\", len(word_choice_dict.values()),\"words and each word of the movie selected has\", lenght_dict.values(),\"letters\")\n"
   ]
  },
  {
   "cell_type": "code",
   "execution_count": 4,
   "metadata": {},
   "outputs": [
    {
     "name": "stdout",
     "output_type": "stream",
     "text": [
      "Are you ready to play Hangman?. Please type yes or no: yes\n",
      "Ok great, let's get the party started\n",
      "The movie selected has 3 words and each word of the movie selected has dict_values([3, 10, 3]) letters\n"
     ]
    },
    {
     "data": {
      "text/plain": [
       "(None, None)"
      ]
     },
     "execution_count": 4,
     "metadata": {},
     "output_type": "execute_result"
    }
   ],
   "source": [
    "#Let's add some interaction to the game \n",
    "\n",
    "def welcomegame():\n",
    "    welcome = input(\"Are you ready to play Hangman?. Please type yes or no: \")\n",
    "    if welcome ==\"yes\":\n",
    "        return print(\"Ok great, let's get the party started\"), wordlenght() \n",
    "    elif welcome ==\"no\":\n",
    "        return print(\"Ok, your loose buddy\")\n",
    "    else:\n",
    "        welcomegame() #if the reply is not yes or no, then ask again \n",
    "        \n",
    "welcomegame()"
   ]
  },
  {
   "cell_type": "code",
   "execution_count": null,
   "metadata": {},
   "outputs": [],
   "source": [
    "#Since I call the variables inside the function, I have created them again"
   ]
  },
  {
   "cell_type": "code",
   "execution_count": 6,
   "metadata": {},
   "outputs": [],
   "source": [
    "#Let's create a list that has the same amount of letters as the dictionary\n",
    "word_choice = list(word_choice.split( )) \n",
    "#Our word is now a list "
   ]
  },
  {
   "cell_type": "code",
   "execution_count": 7,
   "metadata": {},
   "outputs": [
    {
     "name": "stdout",
     "output_type": "stream",
     "text": [
      "['The', 'Heartbreak', 'Kid']\n",
      "[3, 10, 3]\n"
     ]
    },
    {
     "data": {
      "text/plain": [
       "{3: ['_', '_', '_'], 10: ['_', '_', '_', '_', '_', '_', '_', '_', '_', '_']}"
      ]
     },
     "execution_count": 7,
     "metadata": {},
     "output_type": "execute_result"
    }
   ],
   "source": [
    "#Now we are creating two dictionaries, one that keeps track of the cpu choice and one for the player progress.\n",
    "#The game will finish if these two dictionaries are equal or the player fails 6 times \n",
    "word_lenght = [len(word) for word in word_choice]\n",
    "player_progress = {}\n",
    "\n",
    "for number in word_lenght:\n",
    "    player_progress[number] = (\"_ \"*number)\n",
    "\n",
    "player_progress = {key: [(val) for val in value.split()] for key, value in player_progress.items()}\n",
    "\n",
    "print(word_choice)  \n",
    "print(word_lenght)\n",
    "player_progress"
   ]
  },
  {
   "cell_type": "code",
   "execution_count": 9,
   "metadata": {},
   "outputs": [
    {
     "data": {
      "text/plain": [
       "{4: ['Into'], 3: ['You']}"
      ]
     },
     "execution_count": 9,
     "metadata": {},
     "output_type": "execute_result"
    }
   ],
   "source": [
    "#Creating a dictionary like the one above but with letters of the words instead of the \"_\"\n",
    "word_progress_dictionary = dict(zip(word_lenght, word_choice)) \n",
    "word_progress_dictionary = {key: [(val) for val in value.split()] for key, value in word_progress_dictionary.items()}\n",
    "word_progress_dictionary\n",
    "#not finished"
   ]
  },
  {
   "cell_type": "code",
   "execution_count": null,
   "metadata": {},
   "outputs": [],
   "source": [
    "#We create an empty dictionary with the same lenght but where the values are the index of the chosen wor\n",
    "\n",
    "fail_letter=[]\n",
    "letters_said =[]\n",
    "number_of_fails=0\n",
    "\n",
    "while (len(fail_letter)< 6) and (player_progress != word_progress_dictionary):\n",
    "\n",
    "#Variables for the player. Computer asks for a letter > \n",
    "#Implemented error handling for everything that is given to the computer and is not a letter. The computer will keep asking until it is a letter\n",
    "    def player():\n",
    "        input_player = input(\"Please, pick a letter:\")\n",
    "        chosen_letter = input_player.lower()\n",
    "        if chosen_letter.isalpha() == True:\n",
    "            letters_said.append(chosen_letter)\n",
    "        else:\n",
    "            print(\"That is not a letter\"), player()\n",
    "        \n",
    "    \n",
    "#Player has chosen a letter, let's check each of their inputs to try to guess the word! \n",
    "\n",
    "    for n,v in word_choice_dict.items():\n",
    "        if chosen_letter == v:\n",
    "            player_progress[n] = chosen_letter\n",
    "        else:\n",
    "            if chosen_letter not in fail_letter and chosen_letter not in word_choice:\n",
    "                fail_letter.append(chosen_letter)\n",
    "                number_of_fails += 1\n",
    "\n",
    "    \n",
    "    player_show = player_progress.values()\n",
    "    print(player_show)\n",
    "    print(\"These are the letters you've said that are not in the word\",fail_letter)\n",
    "    print(\"These are the letters you have said already\",letters_said)\n",
    "    print(\"This is your number of fails\",number_of_fails)\n",
    "    \n",
    "    #Let's implement the graphics of the game \n",
    "    if (len(fail_letter)) == 1 :\n",
    "        print('''You have one mistake. You only have 5 mistakes left\n",
    "                  +---+\n",
    "                      |\n",
    "                      |\n",
    "                      |\n",
    "                     ===''')\n",
    "    elif (len(fail_letter)) == 2 :\n",
    "        print('''You have one mistake. You only have 4 mistakes left\n",
    "                  +---+\n",
    "                  O   |\n",
    "                      |\n",
    "                      |\n",
    "                     ===''')\n",
    "    elif (len(fail_letter)) == 3 :\n",
    "        print('''You have one mistake. You only have 3 mistakes left\n",
    "                  +---+\n",
    "                  O   |\n",
    "                 /|   |\n",
    "                      |\n",
    "                     ===''')\n",
    "    elif (len(fail_letter)) == 4 :\n",
    "        print('''You have one mistake. You only have 2 mistakes left\n",
    "                  +---+\n",
    "                  O   |\n",
    "                 /|\\  |\n",
    "                      |\n",
    "                     ===''')\n",
    "    elif (len(fail_letter)) == 5 :\n",
    "        print('''You have 5 mistakes. You only 1 mistake left\n",
    "                  +---+\n",
    "                  O   |\n",
    "                 /|\\  |\n",
    "                 /    |\n",
    "                     ===''')\n",
    "    elif (len(fail_letter)) == 6 or (player_progress == word_choice_dict):\n",
    "        print(\"\"\"My friend, you are dead.\n",
    "                    +---+\n",
    "                    |   |\n",
    "                   _O_  |\n",
    "                    |   |\n",
    "                   / \\  |\n",
    "                        |\n",
    "                  ========= \"\"\",\"The chosen word was\",word_choice)\n",
    "        break\n",
    "    \n",
    "    guess = input(\"Do you want to try to guess the word?\")\n",
    "    if guess.lower() == \"yes\":\n",
    "        guess_word_1 = input(\"Try now:\")\n",
    "#If they choose to guess the word correctly, then give them an input and if it's correct the game is over, if not, keep playing and add a mistake to the count of mistakes.\n",
    "        if guess_word_1.lower() == word_choice:\n",
    "            print(\"\"\"You guessed the word! You are free!\n",
    "             +---+\n",
    "                        |\n",
    "                        |\n",
    "                   \\O/  |\n",
    "                    |   |\n",
    "                   | |  |\n",
    "                  ========= \"\"\")\n",
    "            break\n",
    "        else: \n",
    "            print(\"Incorrect answer!Keep trying!\")\n",
    "            number_of_fails += 1\n",
    "            print(\"You have failed\",number_of_fails,\"times\")\n",
    "    else: \n",
    "        print(\"Okay,keep playing!\")\n"
   ]
  }
 ],
 "metadata": {
  "kernelspec": {
   "display_name": "Python 3",
   "language": "python",
   "name": "python3"
  },
  "language_info": {
   "codemirror_mode": {
    "name": "ipython",
    "version": 3
   },
   "file_extension": ".py",
   "mimetype": "text/x-python",
   "name": "python",
   "nbconvert_exporter": "python",
   "pygments_lexer": "ipython3",
   "version": "3.8.2"
  }
 },
 "nbformat": 4,
 "nbformat_minor": 4
}
